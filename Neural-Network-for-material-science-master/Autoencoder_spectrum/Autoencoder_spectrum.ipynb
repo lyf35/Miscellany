{
 "cells": [
  {
   "cell_type": "code",
   "execution_count": 1,
   "metadata": {},
   "outputs": [],
   "source": [
    "import torch\n",
    "import numpy as np\n",
    "import torch.nn as nn\n",
    "import pickle\n",
    "import random\n",
    "from torch.utils.data import DataLoader\n",
    "import datetime"
   ]
  },
  {
   "cell_type": "code",
   "execution_count": 2,
   "metadata": {},
   "outputs": [],
   "source": [
    "random.seed(0)"
   ]
  },
  {
   "cell_type": "code",
   "execution_count": 3,
   "metadata": {},
   "outputs": [],
   "source": [
    "class Autoencoder_spectrum(nn.Module):\n",
    "    def __init__(self,input_dim,spectrum_dim,num_hidden_layers=3,num_hidden_dimensions=256):\n",
    "        super(Autoencoder_spectrum,self).__init__()\n",
    "        self.num_hidden_layers=num_hidden_layers\n",
    "        \n",
    "        self.encoder=nn.ModuleList([nn.Linear(input_dim,num_hidden_dimensions),nn.ReLU()])\n",
    "        self.decoder=nn.ModuleList([nn.Linear(spectrum_dim,num_hidden_dimensions),nn.ReLU()])\n",
    "        for i in range(num_hidden_layers-1):\n",
    "            self.encoder.append(nn.Linear(num_hidden_dimensions,num_hidden_dimensions))\n",
    "            self.encoder.append(nn.ReLU())\n",
    "            self.encoder.append(nn.Dropout())\n",
    "            self.decoder.append(nn.Linear(num_hidden_dimensions,num_hidden_dimensions))\n",
    "            self.decoder.append(nn.ReLU())\n",
    "            self.decoder.append(nn.Dropout())\n",
    "        self.encoder.append(nn.Linear(num_hidden_dimensions,spectrum_dim))\n",
    "        self.encoder.append(nn.ReLU())\n",
    "        self.decoder.append(nn.Linear(num_hidden_dimensions,input_dim))\n",
    "        self.decoder.append(nn.ReLU())\n",
    "        \n",
    "    def forward(self,in_vals):\n",
    "        for modules in self.encoder:\n",
    "            in_vals=modules(in_vals)\n",
    "        spectrum_result=in_vals\n",
    "        for modules in self.decoder:\n",
    "            in_vals=modules(in_vals)\n",
    "        return in_vals,spectrum_result\n",
    "    \n",
    "    def encode(self,in_vals):\n",
    "        for modules in self.encoder:\n",
    "            in_vals=modules(in_vals)\n",
    "        return in_vals\n",
    "    \n",
    "    def decode(self,code):\n",
    "        for modules in self.decoder:\n",
    "            code=modules(code)\n",
    "        return code"
   ]
  },
  {
   "cell_type": "code",
   "execution_count": 4,
   "metadata": {},
   "outputs": [],
   "source": [
    "NUM_HIDDEN_LAYERS=3\n",
    "NUM_HIDDEN_DIMENSIONS=512\n",
    "LEARNING_RATE_INIT=0.001\n",
    "RHO=0.5\n",
    "use_device='cuda' if torch.cuda.is_available() else 'cpu'"
   ]
  },
  {
   "cell_type": "code",
   "execution_count": 5,
   "metadata": {},
   "outputs": [],
   "source": [
    "with open('config_data.pickle','rb+') as f:\n",
    "    configs=pickle.load(f)\n",
    "with open('rdf_data.pickle','rb+') as f:\n",
    "    rdf=pickle.load(f)"
   ]
  },
  {
   "cell_type": "code",
   "execution_count": 6,
   "metadata": {},
   "outputs": [],
   "source": [
    "for i in range(len(configs)):\n",
    "    configs[i]=torch.flatten(torch.tensor(configs[i],dtype=torch.float32))\n",
    "    rdf[i]=torch.tensor(rdf[i],dtype=torch.float32)"
   ]
  },
  {
   "cell_type": "code",
   "execution_count": 7,
   "metadata": {},
   "outputs": [],
   "source": [
    "temp=list(zip(configs,rdf))\n",
    "random.shuffle(temp)\n",
    "configs,rdf=zip(*temp)"
   ]
  },
  {
   "cell_type": "code",
   "execution_count": 8,
   "metadata": {},
   "outputs": [],
   "source": [
    "class RDFDataset(torch.utils.data.Dataset):\n",
    "    def __init__(self,configs,rdf):\n",
    "        super(RDFDataset,self).__init__()\n",
    "        self.configs=configs\n",
    "        self.rdf=rdf\n",
    "        \n",
    "    def __len__(self):\n",
    "        return len(self.rdf)\n",
    "    \n",
    "    def __getitem__(self,index):\n",
    "        ind_config=self.configs[index]\n",
    "        ind_rdf=self.rdf[index]\n",
    "        return ind_config,ind_rdf"
   ]
  },
  {
   "cell_type": "code",
   "execution_count": 9,
   "metadata": {},
   "outputs": [],
   "source": [
    "batch_num=20 #The batch size for mini-batch stochastic gradient descent. It should be modified accroding to the size of the model and the RAM of the graphics card\n",
    "is_pin_memory=False\n",
    "\n",
    "data_size=len(configs)\n",
    "\n",
    "train_size=int(data_size*0.6)\n",
    "valid_size=int(data_size*0.2)\n",
    "test_size=data_size-train_size-valid_size\n",
    "\n",
    "train_dataset=RDFDataset(configs[:train_size],rdf[:train_size])\n",
    "valid_dataset=RDFDataset(configs[train_size:train_size+valid_size],rdf[train_size:train_size+valid_size])\n",
    "test_dataset=RDFDataset(configs[train_size+valid_size:],rdf[train_size+valid_size:])\n",
    "\n",
    "train_dataloader=DataLoader(train_dataset,batch_size=batch_num,pin_memory=is_pin_memory) \n",
    "valid_dataloader=DataLoader(valid_dataset,batch_size=batch_num,pin_memory=is_pin_memory)\n",
    "test_dataloader=DataLoader(test_dataset,batch_size=batch_num,pin_memory=is_pin_memory)"
   ]
  },
  {
   "cell_type": "code",
   "execution_count": 10,
   "metadata": {},
   "outputs": [],
   "source": [
    "model=Autoencoder_spectrum(input_dim=configs[0].shape[0],spectrum_dim=rdf[0].shape[0])\n",
    "model.to(use_device)\n",
    "optimizer=torch.optim.Adam(model.parameters(),lr=LEARNING_RATE_INIT)\n",
    "scheduler=torch.optim.lr_scheduler.StepLR(optimizer,step_size=5,gamma=0.8)"
   ]
  },
  {
   "cell_type": "code",
   "execution_count": 11,
   "metadata": {},
   "outputs": [
    {
     "name": "stdout",
     "output_type": "stream",
     "text": [
      "Epoch  0  training error =  588.5685923728821  validation error =  313.71570940204697  training and validation time =  0:00:15.382440\n"
     ]
    },
    {
     "name": "stderr",
     "output_type": "stream",
     "text": [
      "D:\\software\\Anaconda\\lib\\site-packages\\torch\\serialization.py:292: UserWarning: Couldn't retrieve source code for container of type Autoencoder_XAFS. It won't be checked for correctness upon loading.\n",
      "  \"type \" + obj.__name__ + \". It won't be checked \"\n",
      "D:\\software\\Anaconda\\lib\\site-packages\\torch\\serialization.py:292: UserWarning: Couldn't retrieve source code for container of type ModuleList. It won't be checked for correctness upon loading.\n",
      "  \"type \" + obj.__name__ + \". It won't be checked \"\n",
      "D:\\software\\Anaconda\\lib\\site-packages\\torch\\serialization.py:292: UserWarning: Couldn't retrieve source code for container of type Linear. It won't be checked for correctness upon loading.\n",
      "  \"type \" + obj.__name__ + \". It won't be checked \"\n",
      "D:\\software\\Anaconda\\lib\\site-packages\\torch\\serialization.py:292: UserWarning: Couldn't retrieve source code for container of type ReLU. It won't be checked for correctness upon loading.\n",
      "  \"type \" + obj.__name__ + \". It won't be checked \"\n",
      "D:\\software\\Anaconda\\lib\\site-packages\\torch\\serialization.py:292: UserWarning: Couldn't retrieve source code for container of type Dropout. It won't be checked for correctness upon loading.\n",
      "  \"type \" + obj.__name__ + \". It won't be checked \"\n"
     ]
    },
    {
     "name": "stdout",
     "output_type": "stream",
     "text": [
      "Epoch  1  training error =  337.5752398086796  validation error =  269.3530948713714  training and validation time =  0:00:14.684168\n",
      "Epoch  2  training error =  305.34550167962857  validation error =  255.92001303878484  training and validation time =  0:00:14.647040\n",
      "Epoch  3  training error =  290.64795795568756  validation error =  248.16562329460592  training and validation time =  0:00:14.634908\n",
      "Epoch  4  training error =  279.13106625431277  validation error =  267.1177242503447  training and validation time =  0:00:14.615770\n",
      "Epoch  5  training error =  265.58904636327895  validation error =  221.6735294416839  training and validation time =  0:00:14.485342\n",
      "Epoch  6  training error =  259.4993203294578  validation error =  216.22129205441942  training and validation time =  0:00:14.751690\n",
      "Epoch  7  training error =  254.7324773213334  validation error =  214.55362494973576  training and validation time =  0:00:14.480482\n",
      "Epoch  8  training error =  250.30381832305108  validation error =  207.66978387271658  training and validation time =  0:00:14.610186\n",
      "Epoch  9  training error =  245.91543874280163  validation error =  208.45164578007717  training and validation time =  0:00:14.508353\n",
      "Epoch  10  training error =  240.5679873620828  validation error =  199.65980383181105  training and validation time =  0:00:14.777346\n",
      "Epoch  11  training error =  239.00722400262342  validation error =  196.59618976069433  training and validation time =  0:00:14.566615\n",
      "Epoch  12  training error =  235.88315910736375  validation error =  197.0101499669692  training and validation time =  0:00:14.462801\n",
      "Epoch  13  training error =  234.9568698575475  validation error =  193.82456671022902  training and validation time =  0:00:14.483405\n",
      "Epoch  14  training error =  232.01358303689906  validation error =  189.97423839195102  training and validation time =  0:00:14.588740\n",
      "Epoch  15  training error =  227.00656933500508  validation error =  185.58592096964517  training and validation time =  0:00:14.626903\n",
      "Epoch  16  training error =  226.6524438592365  validation error =  187.95072286269243  training and validation time =  0:00:14.742078\n",
      "Epoch  17  training error =  224.50951822344925  validation error =  184.56619416779162  training and validation time =  0:00:16.031255\n",
      "Epoch  18  training error =  221.80156281387656  validation error =  183.26838724472944  training and validation time =  0:00:14.986419\n",
      "Epoch  19  training error =  223.90162444350358  validation error =  180.1375207639208  training and validation time =  0:00:15.167072\n",
      "Epoch  20  training error =  217.78458453467368  validation error =  179.85419601739622  training and validation time =  0:00:14.897729\n",
      "Epoch  21  training error =  217.54109395764718  validation error =  177.29485322540881  training and validation time =  0:00:14.793265\n",
      "Epoch  22  training error =  215.48849133694935  validation error =  176.26016519583908  training and validation time =  0:00:16.870850\n",
      "Epoch  23  training error =  215.05760985602643  validation error =  175.2780439489028  training and validation time =  0:00:14.781921\n",
      "Epoch  24  training error =  213.9417079264564  validation error =  174.07971973793178  training and validation time =  0:00:14.825914\n",
      "Epoch  25  training error =  211.07422194361308  validation error =  172.19516459446328  training and validation time =  0:00:15.067213\n",
      "Epoch  26  training error =  211.056843952322  validation error =  171.93692417518764  training and validation time =  0:00:14.828329\n",
      "Epoch  27  training error =  209.50381696439433  validation error =  170.75647499234069  training and validation time =  0:00:14.801177\n",
      "Epoch  28  training error =  210.15193638794952  validation error =  171.380769108791  training and validation time =  0:00:15.535138\n",
      "Epoch  29  training error =  209.1594419346147  validation error =  170.07336306104472  training and validation time =  0:00:14.900385\n",
      "Epoch  30  training error =  206.96921542547622  validation error =  169.4729377896178  training and validation time =  0:00:15.153448\n",
      "Epoch  31  training error =  206.0282960045173  validation error =  168.57923361086378  training and validation time =  0:00:14.658008\n",
      "Epoch  32  training error =  205.4973551741847  validation error =  167.63342925427006  training and validation time =  0:00:14.934133\n",
      "Epoch  33  training error =  204.73584883684973  validation error =  170.99577294143975  training and validation time =  0:00:14.711489\n",
      "Epoch  34  training error =  204.50455418697283  validation error =  165.70581099566292  training and validation time =  0:00:14.978745\n",
      "Epoch  35  training error =  203.14393130697346  validation error =  165.4212474598604  training and validation time =  0:00:14.834443\n",
      "Epoch  36  training error =  202.54540562853686  validation error =  166.00385405596566  training and validation time =  0:00:14.809386\n",
      "Epoch  37  training error =  202.34293456849255  validation error =  163.76886704388787  training and validation time =  0:00:14.673967\n",
      "Epoch  38  training error =  201.72264455005765  validation error =  164.36032102996228  training and validation time =  0:00:15.708300\n",
      "Epoch  39  training error =  201.2308241902842  validation error =  164.271513486376  training and validation time =  0:00:16.188286\n",
      "Epoch  40  training error =  200.5255273819437  validation error =  162.61144340365541  training and validation time =  0:00:15.361032\n",
      "Epoch  41  training error =  199.8429888387237  validation error =  163.16441967534084  training and validation time =  0:00:15.180479\n",
      "Epoch  42  training error =  199.4582460361528  validation error =  162.48382107603783  training and validation time =  0:00:15.251198\n",
      "Epoch  43  training error =  199.3678725991858  validation error =  162.89926576801375  training and validation time =  0:00:15.214516\n",
      "Epoch  44  training error =  198.84689085363377  validation error =  161.78534183128207  training and validation time =  0:00:15.384297\n",
      "Epoch  45  training error =  198.43755055774943  validation error =  161.20054948096183  training and validation time =  0:00:15.205784\n",
      "Epoch  46  training error =  197.5000206886792  validation error =  160.66800650802313  training and validation time =  0:00:15.425550\n",
      "Epoch  47  training error =  197.257806651587  validation error =  160.10398086099065  training and validation time =  0:00:15.561805\n",
      "Epoch  48  training error =  197.70115223527685  validation error =  160.1381607280058  training and validation time =  0:00:14.964412\n",
      "Epoch  49  training error =  196.63179760043133  validation error =  161.40999761843213  training and validation time =  0:00:14.893661\n",
      "Epoch  50  training error =  196.32832550642178  validation error =  158.91105336207968  training and validation time =  0:00:15.224756\n",
      "Epoch  51  training error =  196.17763128000948  validation error =  159.46698090796377  training and validation time =  0:00:15.300848\n",
      "Epoch  52  training error =  195.68657940519506  validation error =  158.82541173299154  training and validation time =  0:00:15.262211\n",
      "Epoch  53  training error =  196.40568724162398  validation error =  158.86323833091586  training and validation time =  0:00:15.419140\n",
      "Epoch  54  training error =  196.1777371130059  validation error =  158.21756223790786  training and validation time =  0:00:15.560881\n",
      "Epoch  55  training error =  194.76731435774042  validation error =  158.82558725394455  training and validation time =  0:00:15.497326\n",
      "Epoch  56  training error =  194.8193936045288  validation error =  157.82207224228802  training and validation time =  0:00:15.773883\n",
      "Epoch  57  training error =  194.75374937560002  validation error =  161.5617837344899  training and validation time =  0:00:15.437645\n",
      "Epoch  58  training error =  194.17664205275196  validation error =  157.91769647785262  training and validation time =  0:00:15.261748\n",
      "Epoch  59  training error =  194.28487599705298  validation error =  157.58181637034696  training and validation time =  0:00:15.436729\n",
      "Epoch  60  training error =  193.90244081863517  validation error =  157.17842171612907  training and validation time =  0:00:16.078263\n",
      "Epoch  61  training error =  193.68492045720782  validation error =  157.51237859538958  training and validation time =  0:00:16.604786\n"
     ]
    },
    {
     "name": "stdout",
     "output_type": "stream",
     "text": [
      "Epoch  62  training error =  193.63748325696616  validation error =  157.00894631030513  training and validation time =  0:00:15.306094\n",
      "Epoch  63  training error =  193.44434005416946  validation error =  157.06785960477941  training and validation time =  0:00:15.634535\n",
      "Epoch  64  training error =  193.9614512603488  validation error =  156.68324558033663  training and validation time =  0:00:15.743866\n",
      "Epoch  65  training error =  192.85751779339844  validation error =  156.60220163382735  training and validation time =  0:00:15.753871\n",
      "Epoch  66  training error =  193.12806497291356  validation error =  157.75407364789177  training and validation time =  0:00:15.848672\n",
      "Epoch  67  training error =  192.88939838083766  validation error =  156.12258068907494  training and validation time =  0:00:15.450220\n",
      "Epoch  68  training error =  192.99935477610245  validation error =  156.01667054868213  training and validation time =  0:00:15.711543\n",
      "Epoch  69  training error =  192.7604608531871  validation error =  156.01751684301038  training and validation time =  0:00:15.972057\n",
      "Epoch  70  training error =  192.46881949910346  validation error =  155.6340560539096  training and validation time =  0:00:15.504613\n",
      "Epoch  71  training error =  192.20310136701397  validation error =  155.87553573309208  training and validation time =  0:00:15.480857\n",
      "Epoch  72  training error =  192.27116551292886  validation error =  157.6491190368054  training and validation time =  0:00:15.411375\n",
      "Epoch  73  training error =  192.1114438616872  validation error =  155.53874630647547  training and validation time =  0:00:15.564709\n",
      "Epoch  74  training error =  191.76382658853805  validation error =  155.37628269569547  training and validation time =  0:00:15.581770\n",
      "Epoch  75  training error =  191.8994530066294  validation error =  155.3644754447189  training and validation time =  0:00:15.823114\n",
      "Epoch  76  training error =  191.79986609786215  validation error =  156.06198283176795  training and validation time =  0:00:15.469484\n",
      "Epoch  77  training error =  191.7034817023971  validation error =  155.27135496700512  training and validation time =  0:00:17.365565\n",
      "Epoch  78  training error =  191.70175509923774  validation error =  155.10671272277833  training and validation time =  0:00:17.264949\n",
      "Epoch  79  training error =  191.34777047308663  validation error =  155.27478455188228  training and validation time =  0:00:18.554641\n",
      "Epoch  80  training error =  191.27365881165164  validation error =  154.84793998867858  training and validation time =  0:00:19.595994\n",
      "Epoch  81  training error =  191.43539859387485  validation error =  154.56482570124606  training and validation time =  0:00:19.594597\n",
      "Epoch  82  training error =  191.33601043111562  validation error =  154.82986720216041  training and validation time =  0:00:19.609398\n",
      "Epoch  83  training error =  191.24528088915164  validation error =  154.69112170350317  training and validation time =  0:00:19.696801\n",
      "Epoch  84  training error =  190.97519503807615  validation error =  154.53383200402354  training and validation time =  0:00:19.261198\n",
      "Epoch  85  training error =  191.00034999995438  validation error =  154.62833180147058  training and validation time =  0:00:20.247315\n",
      "Epoch  86  training error =  190.9305531872847  validation error =  154.6038449680104  training and validation time =  0:00:19.626311\n",
      "Epoch  87  training error =  191.32789702501555  validation error =  154.56085919398888  training and validation time =  0:00:16.795766\n",
      "Epoch  88  training error =  191.43054977786588  validation error =  154.50452429827521  training and validation time =  0:00:15.592114\n",
      "Epoch  89  training error =  190.6975344488136  validation error =  154.41089001823875  training and validation time =  0:00:16.347679\n",
      "Epoch  90  training error =  190.64916032358437  validation error =  154.23553160873115  training and validation time =  0:00:16.607301\n",
      "Epoch  91  training error =  191.07950593941976  validation error =  154.37034324197208  training and validation time =  0:00:15.792962\n",
      "Epoch  92  training error =  190.9271667476729  validation error =  154.33000150942334  training and validation time =  0:00:16.972756\n",
      "Epoch  93  training error =  190.66186157113128  validation error =  154.32934138728123  training and validation time =  0:00:16.584125\n",
      "Epoch  94  training error =  190.45972099955512  validation error =  154.05877415526146  training and validation time =  0:00:16.130379\n",
      "Epoch  95  training error =  190.57019694281328  validation error =  154.11155857759363  training and validation time =  0:00:16.319270\n",
      "Epoch  96  training error =  190.70102821351966  validation error =  154.19747424406165  training and validation time =  0:00:16.316755\n",
      "Epoch  97  training error =  190.55347870654623  validation error =  154.08200247521495  training and validation time =  0:00:16.436739\n",
      "Epoch  98  training error =  190.49627143274617  validation error =  153.91037223666322  training and validation time =  0:00:16.378838\n",
      "Epoch  99  training error =  190.7173155803383  validation error =  153.61480345632515  training and validation time =  0:00:16.518953\n",
      "Epoch  100  training error =  190.1630825631399  validation error =  153.7806069093592  training and validation time =  0:00:16.176732\n",
      "Epoch  101  training error =  190.49182079730593  validation error =  154.0111623502245  training and validation time =  0:00:16.948183\n",
      "Epoch  102  training error =  190.26268184123674  validation error =  153.83759898017433  training and validation time =  0:00:16.418127\n",
      "Epoch  103  training error =  190.21665451427504  validation error =  153.77454127891392  training and validation time =  0:00:17.503634\n",
      "Epoch  104  training error =  190.39450885404042  validation error =  153.73988656436697  training and validation time =  0:00:16.373436\n",
      "Epoch  105  training error =  190.22479437971492  validation error =  153.73671581043916  training and validation time =  0:00:16.065574\n",
      "Epoch  106  training error =  190.3747092310037  validation error =  153.75572161207012  training and validation time =  0:00:16.150831\n",
      "Epoch  107  training error =  190.48559730304785  validation error =  153.70944695566214  training and validation time =  0:00:16.315782\n",
      "Epoch  108  training error =  190.0778625450262  validation error =  153.684843564501  training and validation time =  0:00:16.156460\n",
      "Epoch  109  training error =  190.32598573235785  validation error =  153.749457579968  training and validation time =  0:00:16.493996\n",
      "Early stopping\n"
     ]
    },
    {
     "ename": "NameError",
     "evalue": "name 'model_init' is not defined",
     "output_type": "error",
     "traceback": [
      "\u001b[1;31m---------------------------------------------------------------------------\u001b[0m",
      "\u001b[1;31mNameError\u001b[0m                                 Traceback (most recent call last)",
      "\u001b[1;32m<ipython-input-11-0cd50120579a>\u001b[0m in \u001b[0;36m<module>\u001b[1;34m\u001b[0m\n\u001b[0;32m     51\u001b[0m         \u001b[1;32mif\u001b[0m \u001b[0mcnt\u001b[0m\u001b[1;33m>=\u001b[0m\u001b[1;36m10\u001b[0m\u001b[1;33m:\u001b[0m\u001b[1;33m\u001b[0m\u001b[1;33m\u001b[0m\u001b[0m\n\u001b[0;32m     52\u001b[0m             \u001b[0mprint\u001b[0m\u001b[1;33m(\u001b[0m\u001b[1;34m'Early stopping'\u001b[0m\u001b[1;33m)\u001b[0m\u001b[1;33m\u001b[0m\u001b[1;33m\u001b[0m\u001b[0m\n\u001b[1;32m---> 53\u001b[1;33m             \u001b[1;32mdel\u001b[0m\u001b[1;33m(\u001b[0m\u001b[0mmodel_init\u001b[0m\u001b[1;33m)\u001b[0m\u001b[1;33m\u001b[0m\u001b[1;33m\u001b[0m\u001b[0m\n\u001b[0m\u001b[0;32m     54\u001b[0m             \u001b[1;32mwith\u001b[0m \u001b[0mopen\u001b[0m\u001b[1;33m(\u001b[0m\u001b[1;34m'training_errors.pickle'\u001b[0m\u001b[1;33m,\u001b[0m\u001b[1;34m'wb'\u001b[0m\u001b[1;33m)\u001b[0m \u001b[1;32mas\u001b[0m \u001b[0mf\u001b[0m\u001b[1;33m:\u001b[0m\u001b[1;33m\u001b[0m\u001b[1;33m\u001b[0m\u001b[0m\n\u001b[0;32m     55\u001b[0m                 \u001b[0mpickle\u001b[0m\u001b[1;33m.\u001b[0m\u001b[0mdump\u001b[0m\u001b[1;33m(\u001b[0m\u001b[0mtrain_errors_init\u001b[0m\u001b[1;33m,\u001b[0m\u001b[0mf\u001b[0m\u001b[1;33m)\u001b[0m\u001b[1;33m\u001b[0m\u001b[1;33m\u001b[0m\u001b[0m\n",
      "\u001b[1;31mNameError\u001b[0m: name 'model_init' is not defined"
     ]
    }
   ],
   "source": [
    "min_valid_error=np.inf\n",
    "train_errors=list()\n",
    "valid_errors=list()\n",
    "cnt=0\n",
    "for i in range(200):\n",
    "    time_beg_epoch=datetime.datetime.now()\n",
    "\n",
    "    #training process\n",
    "    model.train()\n",
    "    train_error=0\n",
    "    for train_batch,true_spectrum in train_dataloader:\n",
    "        train_batch=train_batch.to(use_device)\n",
    "        true_spectrum=true_spectrum.to(use_device)\n",
    "        optimizer.zero_grad()\n",
    "        reconstruct_val,encode_spectrum=model(train_batch)\n",
    "        loss_energy=torch.nn.functional.mse_loss(reconstruct_val,train_batch,reduction='none')\n",
    "        loss_spectrum=torch.nn.functional.mse_loss(encode_spectrum,true_spectrum,reduction='none')\n",
    "        total_loss=RHO*torch.sum(loss_energy,dim=1)+(1-RHO)*torch.sum(loss_spectrum,dim=1)\n",
    "        total_loss.backward(torch.ones_like(total_loss))\n",
    "        optimizer.step()\n",
    "        train_error+=torch.sum(total_loss).cpu().detach().numpy()\n",
    "    train_errors.append(train_error/train_size)\n",
    "\n",
    "    #validation process\n",
    "    model.eval()\n",
    "    valid_error=0\n",
    "    for valid_batch,true_spectrum in valid_dataloader:\n",
    "        valid_batch=valid_batch.to(use_device)\n",
    "        true_spectrum=true_spectrum.to(use_device)\n",
    "        optimizer.zero_grad()\n",
    "        reconstruct_val,encode_spectrum=model(valid_batch)\n",
    "        loss_energy=torch.nn.functional.mse_loss(reconstruct_val,valid_batch,reduction='none')\n",
    "        loss_spectrum=torch.nn.functional.mse_loss(encode_spectrum,true_spectrum,reduction='none')\n",
    "        total_loss=RHO*torch.sum(loss_energy,dim=1)+(1-RHO)*torch.sum(loss_spectrum,dim=1)\n",
    "        valid_error+=torch.sum(total_loss).cpu().detach().numpy()\n",
    "    valid_errors.append(valid_error/valid_size)\n",
    "\n",
    "    #print information & judgement for early stopping\n",
    "    scheduler.step()\n",
    "    time_end_epoch=datetime.datetime.now()\n",
    "    print('Epoch ',i,' training error = ',train_error/train_size,\n",
    "          ' validation error = ',valid_error/valid_size,\n",
    "          ' training and validation time = ',time_end_epoch-time_beg_epoch)\n",
    "\n",
    "    if valid_error<min_valid_error: #judgement for early stopping\n",
    "        cnt=0\n",
    "        torch.save(model,'best_model.pkl')\n",
    "        min_valid_error=valid_error\n",
    "    else:\n",
    "        cnt+=1\n",
    "        if cnt>=10:\n",
    "            print('Early stopping')\n",
    "            del(model)\n",
    "            with open('training_errors.pickle','wb') as f:\n",
    "                pickle.dump(train_errors,f)\n",
    "            with open('valid_errors.pickle','wb') as f:\n",
    "                pickle.dump(valid_errors,f)\n",
    "            break"
   ]
  },
  {
   "cell_type": "code",
   "execution_count": 13,
   "metadata": {},
   "outputs": [],
   "source": [
    "final_model=torch.load('best_model.pkl')\n",
    "final_model=final_model.to(use_device)\n",
    "final_model.eval()\n",
    "reconstructions=list()\n",
    "pred_spectrums=list()\n",
    "true_configs=list()\n",
    "true_spectrums=list()\n",
    "for test_data,test_spectrum in test_dataloader:\n",
    "    test_data=test_data.to(use_device)\n",
    "    test_spectrum=test_spectrum.to(use_device)\n",
    "    pred_reconstruct,pred_spectrum=final_model(test_data)\n",
    "\n",
    "    reconstructions.append(pred_reconstruct.cpu().detach().numpy())\n",
    "    pred_spectrums.append(pred_spectrum.cpu().detach().numpy())\n",
    "    true_configs.append(test_data.cpu().detach().numpy())\n",
    "    true_spectrums.append(test_spectrum.cpu().detach().numpy())\n",
    "    \n",
    "reconstructions=np.concatenate(reconstructions,axis=0)\n",
    "pred_spectrums=np.concatenate(pred_spectrums,axis=0)\n",
    "true_configs=np.concatenate(true_configs,axis=0)\n",
    "true_spectrums=np.concatenate(true_spectrums,axis=0)"
   ]
  },
  {
   "cell_type": "code",
   "execution_count": 16,
   "metadata": {},
   "outputs": [],
   "source": [
    "import matplotlib.pyplot as plt"
   ]
  },
  {
   "cell_type": "code",
   "execution_count": 34,
   "metadata": {},
   "outputs": [
    {
     "data": {
      "text/plain": [
       "<matplotlib.legend.Legend at 0x278f7346dd8>"
      ]
     },
     "execution_count": 34,
     "metadata": {},
     "output_type": "execute_result"
    },
    {
     "data": {
      "image/png": "[encoded data removed]",
      "text/plain": [
       "<Figure size 432x288 with 1 Axes>"
      ]
     },
     "metadata": {
      "needs_background": "light"
     },
     "output_type": "display_data"
    }
   ],
   "source": [
    "fig1=plt.figure()\n",
    "ax=fig1.add_subplot(1,1,1)\n",
    "ax.plot(true_spectrums[720],label='true rdf')\n",
    "ax.plot(pred_spectrums[720],label='pred rdf')\n",
    "ax.legend()"
   ]
  },
  {
   "cell_type": "code",
   "execution_count": 24,
   "metadata": {},
   "outputs": [],
   "source": [
    "import seaborn as sns"
   ]
  },
  {
   "cell_type": "code",
   "execution_count": 30,
   "metadata": {},
   "outputs": [
    {
     "data": {
      "text/plain": [
       "<matplotlib.axes._subplots.AxesSubplot at 0x278f0d3e358>"
      ]
     },
     "execution_count": 30,
     "metadata": {},
     "output_type": "execute_result"
    },
    {
     "data": {
      "image/png": "[encoded data removed]",
      "text/plain": [
       "<Figure size 432x288 with 2 Axes>"
      ]
     },
     "metadata": {
      "needs_background": "light"
     },
     "output_type": "display_data"
    }
   ],
   "source": [
    "sns.heatmap(np.reshape(true_configs[300],(-1,4)))"
   ]
  },
  {
   "cell_type": "code",
   "execution_count": 31,
   "metadata": {},
   "outputs": [
    {
     "data": {
      "text/plain": [
       "<matplotlib.axes._subplots.AxesSubplot at 0x278f0c07588>"
      ]
     },
     "execution_count": 31,
     "metadata": {},
     "output_type": "execute_result"
    },
    {
     "data": {
      "image/png": "[encoded data removed]",
      "text/plain": [
       "<Figure size 432x288 with 2 Axes>"
      ]
     },
     "metadata": {
      "needs_background": "light"
     },
     "output_type": "display_data"
    }
   ],
   "source": [
    "sns.heatmap(np.reshape(reconstructions[300],(-1,4)))"
   ]
  },
  {
   "cell_type": "code",
   "execution_count": null,
   "metadata": {},
   "outputs": [],
   "source": [
    "with open('reconstructions_test.pickle','wb') as f:\n",
    "    pickle.dump(reconstructions,f)\n",
    "with open('pred_spectrums.pickle','wb') as f:\n",
    "    pickle.dump(pred_spectrums,f)"
   ]
  }
 ],
 "metadata": {
  "kernelspec": {
   "display_name": "Python 3",
   "language": "python",
   "name": "python3"
  },
  "language_info": {
   "codemirror_mode": {
    "name": "ipython",
    "version": 3
   },
   "file_extension": ".py",
   "mimetype": "text/x-python",
   "name": "python",
   "nbconvert_exporter": "python",
   "pygments_lexer": "ipython3",
   "version": "3.7.3"
  },
  "latex_envs": {
   "LaTeX_envs_menu_present": true,
   "autoclose": false,
   "autocomplete": true,
   "bibliofile": "biblio.bib",
   "cite_by": "apalike",
   "current_citInitial": 1,
   "eqLabelWithNumbers": true,
   "eqNumInitial": 1,
   "hotkeys": {
    "equation": "Ctrl-E",
    "itemize": "Ctrl-I"
   },
   "labels_anchors": false,
   "latex_user_defs": false,
   "report_style_numbering": false,
   "user_envs_cfg": false
  },
  "toc": {
   "base_numbering": 1,
   "nav_menu": {},
   "number_sections": false,
   "sideBar": true,
   "skip_h1_title": true,
   "title_cell": "Table of Contents",
   "title_sidebar": "Contents",
   "toc_cell": false,
   "toc_position": {},
   "toc_section_display": true,
   "toc_window_display": false
  }
 },
 "nbformat": 4,
 "nbformat_minor": 2
}
