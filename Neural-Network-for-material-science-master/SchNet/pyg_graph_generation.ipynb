{
 "cells": [
  {
   "cell_type": "markdown",
   "metadata": {},
   "source": [
    "This file is used for converting the result of VASP calculation to pyg graph "
   ]
  },
  {
   "cell_type": "code",
   "execution_count": 1,
   "metadata": {},
   "outputs": [],
   "source": [
    "import numpy as np\n",
    "import pandas as pd\n",
    "import networkx as nx\n",
    "from torch_geometric.data import Data \n",
    "import torch\n",
    "import pickle\n",
    "import math\n",
    "import os\n",
    "import random"
   ]
  },
  {
   "cell_type": "code",
   "execution_count": 2,
   "metadata": {},
   "outputs": [],
   "source": [
    "CUTOFF_DISTANCE=6.0"
   ]
  },
  {
   "cell_type": "code",
   "execution_count": 3,
   "metadata": {},
   "outputs": [],
   "source": [
    "def generate_reps(cutoff_dist,vec_1_len,vec_2_len,vec_3_len):\n",
    "    vec_1_num=math.ceil(CUTOFF_DISTANCE/vec_1_len)\n",
    "    vec_2_num=math.ceil(CUTOFF_DISTANCE/vec_2_len)\n",
    "    vec_3_num=math.ceil(CUTOFF_DISTANCE/vec_3_len)\n",
    "    vec_1_iter=[0]\n",
    "    vec_2_iter=[0]\n",
    "    vec_3_iter=[0]\n",
    "    for i in range(vec_1_num):\n",
    "        vec_1_iter.append(i+1)\n",
    "        vec_1_iter.append(-i-1)\n",
    "    for j in range(vec_2_num):\n",
    "        vec_2_iter.append(j+1)\n",
    "        vec_2_iter.append(-j-1)\n",
    "    for k in range(vec_3_num):\n",
    "        vec_3_iter.append(k+1)\n",
    "        vec_3_iter.append(-k-1)\n",
    "    return vec_1_iter,vec_2_iter,vec_3_iter"
   ]
  },
  {
   "cell_type": "code",
   "execution_count": 4,
   "metadata": {},
   "outputs": [],
   "source": [
    "def generate_graphs(filename,graph_list,CUTOFF_DISTANCE):\n",
    "    with open(filename,'r') as f:\n",
    "        total_atoms,atom_num,total_config=f.readline().split()\n",
    "        total_atoms=int(total_atoms)\n",
    "        atom_num=int(atom_num)\n",
    "        total_config=int(total_config)\n",
    "        for i in range(total_config):\n",
    "            vec_1_x,vec_1_y,vec_1_z=f.readline().split()\n",
    "            vec_1_x=float(vec_1_x)\n",
    "            vec_1_y=float(vec_1_y)\n",
    "            vec_1_z=float(vec_1_z)\n",
    "            vec_2_x,vec_2_y,vec_2_z=f.readline().split()\n",
    "            vec_2_x=float(vec_2_x)\n",
    "            vec_2_y=float(vec_2_y)\n",
    "            vec_2_z=float(vec_2_z)\n",
    "            vec_3_x,vec_3_y,vec_3_z=f.readline().split()\n",
    "            vec_3_x=float(vec_3_x)\n",
    "            vec_3_y=float(vec_3_y)\n",
    "            vec_3_z=float(vec_3_z)\n",
    "            vec_1_len=math.sqrt(vec_1_x*vec_1_x+vec_1_y*vec_1_y+vec_1_z*vec_1_z)\n",
    "            vec_2_len=math.sqrt(vec_2_x*vec_2_x+vec_2_y*vec_2_y+vec_2_z*vec_2_z)\n",
    "            vec_3_len=math.sqrt(vec_3_x*vec_3_x+vec_3_y*vec_3_y+vec_3_z*vec_3_z)\n",
    "            vec_1_iter,vec_2_iter,vec_3_iter=generate_reps(CUTOFF_DISTANCE,vec_1_len,vec_2_len,vec_3_len)\n",
    "            len_vec1=len(vec_1_iter)\n",
    "            len_vec2=len(vec_2_iter)\n",
    "            len_vec3=len(vec_3_iter)\n",
    "            \n",
    "            x_list=list()\n",
    "            y_list=list()\n",
    "            z_list=list()\n",
    "            fx_list=list()\n",
    "            fy_list=list()\n",
    "            fz_list=list()\n",
    "            charge_list=list()\n",
    "            period_vec_list=list()\n",
    "            edge_list_u=list()\n",
    "            edge_list_v=list()\n",
    "            \n",
    "            # If the training data is too much, use this method to reduce the size of the data.\n",
    "            # To load the full data in the files, just comment the following four lines.\n",
    "            if i%8!=0:\n",
    "                for j in range(atom_num+1): \n",
    "                    f.readline()\n",
    "                continue\n",
    "                \n",
    "            for j in range(atom_num): #get each atom info\n",
    "                #get atom positions & forces\n",
    "                atom_type,x,y,z,fx,fy,fz=f.readline().split()\n",
    "                atom_type=int(atom_type)\n",
    "                x_list.append(float(x))\n",
    "                y_list.append(float(y))\n",
    "                z_list.append(float(z))\n",
    "                fx_list.append(float(fx))\n",
    "                fy_list.append(float(fy))\n",
    "                fz_list.append(float(fz))\n",
    "                charge_list.append(atom_type-1)\n",
    "            total_energy=f.readline()\n",
    "            total_energy=float(total_energy)\n",
    "            \n",
    "            if total_energy/atom_num>-6.5:\n",
    "                continue\n",
    "\n",
    "            for m in range(atom_num): #construct graph, considering the periodic boundaries at the same time\n",
    "                for n in range(m):\n",
    "                    for period_num in range(len_vec1*len_vec2*len_vec3):\n",
    "                        temp=period_num\n",
    "                        vec_1_period=temp%len_vec1\n",
    "                        temp//=len_vec1\n",
    "                        vec_2_period=temp%len_vec2\n",
    "                        vec_3_period=temp//len_vec2\n",
    "              \n",
    "                        x_dist=x_list[m]-x_list[n]-vec_1_iter[vec_1_period]*vec_1_x-vec_2_iter[vec_2_period]*vec_2_x-vec_3_iter[vec_3_period]*vec_3_x\n",
    "                        y_dist=y_list[m]-y_list[n]-vec_1_iter[vec_1_period]*vec_1_y-vec_2_iter[vec_2_period]*vec_2_y-vec_3_iter[vec_3_period]*vec_3_y\n",
    "                        z_dist=z_list[m]-z_list[n]-vec_1_iter[vec_1_period]*vec_1_z-vec_2_iter[vec_2_period]*vec_2_z-vec_3_iter[vec_3_period]*vec_3_z\n",
    "                        \n",
    "                        if x_dist*x_dist+y_dist*y_dist+z_dist*z_dist<CUTOFF_DISTANCE*CUTOFF_DISTANCE:\n",
    "                            \n",
    "                            edge_list_u.append(n)\n",
    "                            edge_list_v.append(m)\n",
    "                            period_vec_list.append([-vec_1_iter[vec_1_period]*vec_1_x-vec_2_iter[vec_2_period]*vec_2_x-vec_3_iter[vec_3_period]*vec_3_x,\n",
    "                                                    -vec_1_iter[vec_1_period]*vec_1_y-vec_2_iter[vec_2_period]*vec_2_y-vec_3_iter[vec_3_period]*vec_3_y,\n",
    "                                                    -vec_1_iter[vec_1_period]*vec_1_z-vec_2_iter[vec_2_period]*vec_2_z-vec_3_iter[vec_3_period]*vec_3_z])\n",
    "                            edge_list_u.append(m)\n",
    "                            edge_list_v.append(n)\n",
    "                            period_vec_list.append([vec_1_iter[vec_1_period]*vec_1_x+vec_2_iter[vec_2_period]*vec_2_x+vec_3_iter[vec_3_period]*vec_3_x,\n",
    "                                                    vec_1_iter[vec_1_period]*vec_1_y+vec_2_iter[vec_2_period]*vec_2_y+vec_3_iter[vec_3_period]*vec_3_y,\n",
    "                                                    vec_1_iter[vec_1_period]*vec_1_z+vec_2_iter[vec_2_period]*vec_2_z+vec_3_iter[vec_3_period]*vec_3_z])\n",
    "                \n",
    "                for period_num in range(len_vec1*len_vec2*len_vec3):\n",
    "                        if period_num==0:\n",
    "                            continue\n",
    "                            \n",
    "                        temp=period_num\n",
    "                        vec_1_period=temp%len_vec1\n",
    "                        temp//=len_vec1\n",
    "                        vec_2_period=temp%len_vec2\n",
    "                        vec_3_period=temp//len_vec2\n",
    "              \n",
    "                        x_dist=-vec_1_iter[vec_1_period]*vec_1_x-vec_2_iter[vec_2_period]*vec_2_x-vec_3_iter[vec_3_period]*vec_3_x\n",
    "                        y_dist=-vec_1_iter[vec_1_period]*vec_1_y-vec_2_iter[vec_2_period]*vec_2_y-vec_3_iter[vec_3_period]*vec_3_y\n",
    "                        z_dist=-vec_1_iter[vec_1_period]*vec_1_z-vec_2_iter[vec_2_period]*vec_2_z-vec_3_iter[vec_3_period]*vec_3_z\n",
    "                        \n",
    "                        if x_dist*x_dist+y_dist*y_dist+z_dist*z_dist<CUTOFF_DISTANCE*CUTOFF_DISTANCE:\n",
    "                            \n",
    "                            edge_list_u.append(m)\n",
    "                            edge_list_v.append(m)\n",
    "                            period_vec_list.append([-vec_1_iter[vec_1_period]*vec_1_x-vec_2_iter[vec_2_period]*vec_2_x-vec_3_iter[vec_3_period]*vec_3_x,\n",
    "                                                    -vec_1_iter[vec_1_period]*vec_1_y-vec_2_iter[vec_2_period]*vec_2_y-vec_3_iter[vec_3_period]*vec_3_y,\n",
    "                                                    -vec_1_iter[vec_1_period]*vec_1_z-vec_2_iter[vec_2_period]*vec_2_z-vec_3_iter[vec_3_period]*vec_3_z])\n",
    "                            \n",
    "            data_temp=Data(x=torch.tensor(charge_list,dtype=torch.long),\n",
    "                           pos=torch.tensor(np.array([x_list,y_list,z_list]).transpose(1,0),dtype=torch.float32,requires_grad=True),\n",
    "                           force=torch.tensor(np.array([fx_list,fy_list,fz_list]).transpose(1,0),dtype=torch.float32,requires_grad=True),\n",
    "                           y=torch.tensor([[total_energy]]),\n",
    "                           edge_index=torch.tensor([edge_list_u,edge_list_v],dtype=torch.long),\n",
    "                           edge_attr=torch.tensor(period_vec_list,dtype=torch.float32)\n",
    "                          )\n",
    "            \n",
    "            graph_list.append(data_temp)"
   ]
  },
  {
   "cell_type": "code",
   "execution_count": 5,
   "metadata": {},
   "outputs": [],
   "source": [
    "graph_list=list()\n",
    "file_path='.//HEA_database'\n",
    "file_names=os.listdir(file_path)\n",
    "for file in file_names:\n",
    "    generate_graphs(file_path+'//'+file,graph_list,CUTOFF_DISTANCE)\n",
    "random.seed(0)\n",
    "random.shuffle(graph_list)"
   ]
  },
  {
   "cell_type": "code",
   "execution_count": 6,
   "metadata": {},
   "outputs": [],
   "source": [
    "with open('pyg_graph_hea.pickle','wb') as f:\n",
    "    pickle.dump(graph_list,f)"
   ]
  },
  {
   "cell_type": "code",
   "execution_count": 7,
   "metadata": {},
   "outputs": [
    {
     "name": "stdout",
     "output_type": "stream",
     "text": [
      "8856\n"
     ]
    }
   ],
   "source": [
    "print(len(graph_list))"
   ]
  },
  {
   "cell_type": "code",
   "execution_count": 8,
   "metadata": {},
   "outputs": [
    {
     "name": "stdout",
     "output_type": "stream",
     "text": [
      "Data(edge_attr=[1814, 3], edge_index=[2, 1814], force=[32, 3], pos=[32, 3], x=[32], y=[1, 1])\n"
     ]
    }
   ],
   "source": [
    "print(graph_list[0])"
   ]
  },
  {
   "cell_type": "code",
   "execution_count": null,
   "metadata": {},
   "outputs": [],
   "source": []
  }
 ],
 "metadata": {
  "kernelspec": {
   "display_name": "Python 3",
   "language": "python",
   "name": "python3"
  },
  "language_info": {
   "codemirror_mode": {
    "name": "ipython",
    "version": 3
   },
   "file_extension": ".py",
   "mimetype": "text/x-python",
   "name": "python",
   "nbconvert_exporter": "python",
   "pygments_lexer": "ipython3",
   "version": "3.7.3"
  },
  "latex_envs": {
   "LaTeX_envs_menu_present": true,
   "autoclose": false,
   "autocomplete": true,
   "bibliofile": "biblio.bib",
   "cite_by": "apalike",
   "current_citInitial": 1,
   "eqLabelWithNumbers": true,
   "eqNumInitial": 1,
   "hotkeys": {
    "equation": "Ctrl-E",
    "itemize": "Ctrl-I"
   },
   "labels_anchors": false,
   "latex_user_defs": false,
   "report_style_numbering": false,
   "user_envs_cfg": false
  }
 },
 "nbformat": 4,
 "nbformat_minor": 2
}
